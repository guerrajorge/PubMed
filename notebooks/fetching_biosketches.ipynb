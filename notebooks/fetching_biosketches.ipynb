{
 "cells": [
  {
   "cell_type": "code",
   "execution_count": 17,
   "metadata": {},
   "outputs": [],
   "source": [
    "import pandas as pd\n",
    "import os\n",
    "from pathlib import Path\n",
    "import requests\n",
    "from lxml import html\n",
    "from pathlib import Path\n",
    "import shutil\n",
    "import PyPDF2"
   ]
  },
  {
   "cell_type": "code",
   "execution_count": 43,
   "metadata": {},
   "outputs": [],
   "source": [
    "login_data = {\n",
    "\t\"username\": \"CHOP-EDU\\e_guerramarj\", \n",
    "\t\"password\": \"George@_7691\"\n",
    "}"
   ]
  },
  {
   "cell_type": "code",
   "execution_count": 52,
   "metadata": {},
   "outputs": [],
   "source": [
    "# session obj object will allow us to persist the login session across all our requests\n",
    "session_requests = requests.session()\n",
    "out_file = Path('NIHBiosketch_AC_ThrasherCEUS.pdf')\n",
    "# extract the csrf token from the web page, this token is used during login\n",
    "url = \"https://resckapp04q.research.chop.edu/eSPAQA/Doc/0/UJOBDLL17IB4FEC40A9OBSLR9C/\"\n",
    "response = session_requests.post(url, data=login_data)\n",
    "# response = session_requests.get(url, auth=('CHOP-EDU\\e_guerramarj', 'George@_7691'))\n",
    "with open('practice_2.pdf', 'wb') as f:\n",
    "    f.write(response.content)\n"
   ]
  },
  {
   "cell_type": "code",
   "execution_count": 62,
   "metadata": {},
   "outputs": [
    {
     "data": {
      "text/plain": [
       "('download.pdf', <http.client.HTTPMessage at 0x1079586a0>)"
      ]
     },
     "execution_count": 62,
     "metadata": {},
     "output_type": "execute_result"
    }
   ],
   "source": [
    "from urllib.request import urlretrieve\n",
    "pdf_url = \"https://resckapp04q.research.chop.edu/eSPAQA/Doc/0/6CSR29GHUVLKH084M5O7M1QIE6/DonoghueVIPERbio9Nov.pdf\"\n",
    "urlretrieve(pdf_url, \"download.pdf\")\n",
    "\n"
   ]
  },
  {
   "cell_type": "code",
   "execution_count": 44,
   "metadata": {},
   "outputs": [],
   "source": [
    "# session obj object will allow us to persist the login session across all our requests\n",
    "session_requests = requests.session()\n",
    "# extract the csrf token from the web page, this token is used during login\n",
    "url = \"http://www.cs.columbia.edu/~allen/PAPERS/icorr_2017.pdf\"\n",
    "response = session_requests.post(url, data=login_data)\n",
    "with open('practice_2.pdf', 'wb') as f:\n",
    "    f.write(response.content)"
   ]
  },
  {
   "cell_type": "code",
   "execution_count": 23,
   "metadata": {},
   "outputs": [],
   "source": [
    "# session obj object will allow us to persist the login session across all our requests\n",
    "session_requests = requests.session()\n",
    "out_file = Path('NIHBiosketch_AC_ThrasherCEUS.pdf')\n",
    "# extract the csrf token from the web page, this token is used during login\n",
    "url = \"https://resckapp04q.research.chop.edu/eSPAQA/Doc/0/UJOBDLL17IB4FEC40A9OBSLR9C/NIHBiosketch_AC_ThrasherCEUS.pdf\"\n",
    "response = session_requests.post(url, data=login_data)\n",
    "\n",
    "my_raw_data = response.content\n",
    "\n",
    "# with open(\"my_pdf.pdf\", 'wb') as my_data:\n",
    "#     my_data.write(my_raw_data)\n",
    "\n",
    "# open_pdf_file = open(\"my_pdf.pdf\", 'rb')\n",
    "# read_pdf = PyPDF2.PdfFileReader(open_pdf_file)\n",
    "# if read_pdf.isEncrypted:\n",
    "#     read_pdf.decrypt(\"\")\n",
    "#     print(read_pdf.getPage(0).extractText())\n",
    "\n",
    "# else:\n",
    "#     print(read_pdf.getPage(0).extractText())"
   ]
  },
  {
   "cell_type": "code",
   "execution_count": 24,
   "metadata": {},
   "outputs": [
    {
     "data": {
      "text/plain": [
       "bytes"
      ]
     },
     "execution_count": 24,
     "metadata": {},
     "output_type": "execute_result"
    }
   ],
   "source": [
    "type(my_raw_data)\n",
    "# my_raw_data = my_raw_data.decode\n",
    "# with open(\"my_pdf.pdf\", 'wb') as my_data:\n",
    "#     my_data.write(my_raw_data)"
   ]
  },
  {
   "cell_type": "code",
   "execution_count": 31,
   "metadata": {},
   "outputs": [],
   "source": [
    "url = 'https://resckapp04q.research.chop.edu/eSPAQA/Doc/0/CNTKSG4LPKG45A06EA1CLQCGF3/ADbiosketch.pdf'\n",
    "r = requests.get(url, auth=('CHOP-EDU\\e_guerramarj', 'George@_7691'),stream=True)\n",
    "r.raw.decode_content = True\n",
    "# with open(\"file_name.pdf\", 'wb') as f:\n",
    "#         shutil.copyfileobj(r.raw, f)  \n",
    "with open('practice_1.pdf', 'wb') as f:\n",
    "    f.write(r.content)"
   ]
  },
  {
   "cell_type": "code",
   "execution_count": 41,
   "metadata": {},
   "outputs": [
    {
     "name": "stdout",
     "output_type": "stream",
     "text": [
      "200\n"
     ]
    },
    {
     "data": {
      "text/plain": [
       "requests.models.Response"
      ]
     },
     "execution_count": 41,
     "metadata": {},
     "output_type": "execute_result"
    }
   ],
   "source": [
    "# session obj object will allow us to persist the login session across all our requests\n",
    "session_requests = requests.session()\n",
    "# extract the csrf token from the web page, this token is used during login\n",
    "url = 'https://resckapp04q.research.chop.edu/eSPAQA/Doc/0/CNTKSG4LPKG45A06EA1CLQCGF3/ADbiosketch.pdf'\n",
    "response = session_requests.post(url)\n",
    "print(response.status_code)\n",
    "response = session_requests.get(url)\n",
    "type(response)\n",
    "# # # out_file.write_bytes(response.content)\n",
    "# with open('practice_1.pdf', 'wb') as f:\n",
    "#     f.write(response.content)"
   ]
  },
  {
   "cell_type": "code",
   "execution_count": 42,
   "metadata": {},
   "outputs": [
    {
     "name": "stdout",
     "output_type": "stream",
     "text": [
      "200\n"
     ]
    },
    {
     "data": {
      "text/plain": [
       "requests.models.Response"
      ]
     },
     "execution_count": 42,
     "metadata": {},
     "output_type": "execute_result"
    }
   ],
   "source": [
    "# session obj object will allow us to persist the login session across all our requests\n",
    "session_requests = requests.session()\n",
    "# extract the csrf token from the web page, this token is used during login\n",
    "url = \"http://www.cs.columbia.edu/~allen/PAPERS/icorr_2017.pdf\"\n",
    "response = session_requests.post(url)\n",
    "print(response.status_code)\n",
    "response = session_requests.get(url)\n",
    "type(response)\n",
    "# # # out_file.write_bytes(response.content)\n",
    "# with open('practice_1.pdf', 'wb') as f:\n",
    "#     f.write(response.content)"
   ]
  },
  {
   "cell_type": "code",
   "execution_count": 35,
   "metadata": {},
   "outputs": [
    {
     "data": {
      "text/plain": [
       "200"
      ]
     },
     "execution_count": 35,
     "metadata": {},
     "output_type": "execute_result"
    }
   ],
   "source": [
    "response=requests.post(url, data=login_data)\n",
    "response.status_code\n",
    "# response=response.get(url, auth=('CHOP-EDU\\e_guerramarj', 'George@_7691'))\n",
    "# expdf=response.content\n",
    "# egpdf=open('ex.pdf','wb')\n",
    "# egpdf.write(expdf)\n",
    "# egpdf.close()"
   ]
  },
  {
   "cell_type": "code",
   "execution_count": 26,
   "metadata": {},
   "outputs": [],
   "source": [
    "url = 'https://resckapp04q.research.chop.edu/eSPAQA/Doc/0/CNTKSG4LPKG45A06EA1CLQCGF3/ADbiosketch.pdf'"
   ]
  },
  {
   "cell_type": "code",
   "execution_count": 10,
   "metadata": {},
   "outputs": [],
   "source": [
    "session_requests = requests.session()\n",
    "response = session_requests.get(url)\n",
    "# with open('practice.pdf', 'wb') as f:\n",
    "#     f.write(response.content)\n"
   ]
  },
  {
   "cell_type": "code",
   "execution_count": 18,
   "metadata": {},
   "outputs": [],
   "source": [
    "session_requests = requests.session()\n",
    "session_requests.auth = ('CHOP-EDU\\e_guerramarj', 'George@_7691')\n",
    "session_requests = session_requests.get(url)\n",
    "with open('NIHBiosketch_AC_ThrasherCEUS.pdf', 'wb') as f:\n",
    "    f.write(session_requests.content)"
   ]
  },
  {
   "cell_type": "code",
   "execution_count": 8,
   "metadata": {},
   "outputs": [
    {
     "name": "stderr",
     "output_type": "stream",
     "text": [
      "/Users/guerramarj/anaconda3/envs/scosy/lib/python3.5/site-packages/urllib3/connectionpool.py:858: InsecureRequestWarning: Unverified HTTPS request is being made. Adding certificate verification is strongly advised. See: https://urllib3.readthedocs.io/en/latest/advanced-usage.html#ssl-warnings\n",
      "  InsecureRequestWarning)\n",
      "/Users/guerramarj/anaconda3/envs/scosy/lib/python3.5/site-packages/urllib3/connectionpool.py:858: InsecureRequestWarning: Unverified HTTPS request is being made. Adding certificate verification is strongly advised. See: https://urllib3.readthedocs.io/en/latest/advanced-usage.html#ssl-warnings\n",
      "  InsecureRequestWarning)\n",
      "/Users/guerramarj/anaconda3/envs/scosy/lib/python3.5/site-packages/urllib3/connectionpool.py:858: InsecureRequestWarning: Unverified HTTPS request is being made. Adding certificate verification is strongly advised. See: https://urllib3.readthedocs.io/en/latest/advanced-usage.html#ssl-warnings\n",
      "  InsecureRequestWarning)\n",
      "/Users/guerramarj/anaconda3/envs/scosy/lib/python3.5/site-packages/urllib3/connectionpool.py:858: InsecureRequestWarning: Unverified HTTPS request is being made. Adding certificate verification is strongly advised. See: https://urllib3.readthedocs.io/en/latest/advanced-usage.html#ssl-warnings\n",
      "  InsecureRequestWarning)\n",
      "/Users/guerramarj/anaconda3/envs/scosy/lib/python3.5/site-packages/urllib3/connectionpool.py:858: InsecureRequestWarning: Unverified HTTPS request is being made. Adding certificate verification is strongly advised. See: https://urllib3.readthedocs.io/en/latest/advanced-usage.html#ssl-warnings\n",
      "  InsecureRequestWarning)\n"
     ]
    }
   ],
   "source": [
    "import requests\n",
    "r = requests.get(url, auth=('CHOP-EDU\\e_guerramarj', 'George@_7691'), verify=False,stream=True)\n",
    "r.raw.decode_content = True\n",
    "with open(\"practice.pdf\", 'wb') as f:\n",
    "    f.write(r.content)\n",
    "#         shutil.copyfileobj(r.raw, f) "
   ]
  },
  {
   "cell_type": "code",
   "execution_count": null,
   "metadata": {},
   "outputs": [],
   "source": []
  }
 ],
 "metadata": {
  "kernelspec": {
   "display_name": "Python 3",
   "language": "python",
   "name": "python3"
  },
  "language_info": {
   "codemirror_mode": {
    "name": "ipython",
    "version": 3
   },
   "file_extension": ".py",
   "mimetype": "text/x-python",
   "name": "python",
   "nbconvert_exporter": "python",
   "pygments_lexer": "ipython3",
   "version": "3.5.4"
  }
 },
 "nbformat": 4,
 "nbformat_minor": 2
}
