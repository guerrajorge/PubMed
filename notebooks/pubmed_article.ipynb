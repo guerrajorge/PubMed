{
 "cells": [
  {
   "cell_type": "code",
   "execution_count": 24,
   "metadata": {},
   "outputs": [],
   "source": [
    "from Bio import Entrez\n",
    "import csv\n",
    "import argparse\n",
    "import pandas as pd\n",
    "from pathlib import Path\n",
    "import sys\n",
    "from utils.parse import parse\n",
    "import os"
   ]
  },
  {
   "cell_type": "code",
   "execution_count": 15,
   "metadata": {},
   "outputs": [],
   "source": [
    "file_dir = '/'.join(os.path.dirname(os.path.abspath(\"__file__\")).split('/')[:-2])\n",
    "sys.path.append(file_dir)"
   ]
  },
  {
   "cell_type": "code",
   "execution_count": 16,
   "metadata": {},
   "outputs": [
    {
     "data": {
      "text/plain": [
       "['',\n",
       " '/Users/guerramarj/anaconda3/envs/scosy/lib/python35.zip',\n",
       " '/Users/guerramarj/anaconda3/envs/scosy/lib/python3.5',\n",
       " '/Users/guerramarj/anaconda3/envs/scosy/lib/python3.5/plat-darwin',\n",
       " '/Users/guerramarj/anaconda3/envs/scosy/lib/python3.5/lib-dynload',\n",
       " '/Users/guerramarj/anaconda3/envs/scosy/lib/python3.5/site-packages',\n",
       " '/Users/guerramarj/anaconda3/envs/scosy/lib/python3.5/site-packages/IPython/extensions',\n",
       " '/Users/guerramarj/.ipython',\n",
       " '/Users/guerramarj/github/scosy']"
      ]
     },
     "execution_count": 16,
     "metadata": {},
     "output_type": "execute_result"
    }
   ],
   "source": [
    "sys.path"
   ]
  },
  {
   "cell_type": "code",
   "execution_count": 17,
   "metadata": {},
   "outputs": [],
   "source": [
    "if sys.platform == \"darwin\" or sys.platform == \"win32\":\n",
    "    if sys.platform == \"win32\":\n",
    "        path = 'D:\\dataset\\scosy\\dataset'\n",
    "    else:\n",
    "        path = r'/Volumes/dataset/scosy/dataset'\n",
    "# Respublica\n",
    "else:\n",
    "    path = 'dataset/'"
   ]
  },
  {
   "cell_type": "code",
   "execution_count": 18,
   "metadata": {},
   "outputs": [],
   "source": [
    "Entrez.email = \"guerramarj@email.chop.edu\"     # Always tell NCBI who you are\n",
    "handle = Entrez.esearch(db=\"pubmed\", retmax=100000000, idtype=\"esearch\", mindate=\"2000/01/01\", maxdate=\"2020/08/21\",\n",
    "                    term=\"Perelman School of Medicine[Affiliation] OR Children's Hospital of \"\n",
    "                         \"Philadelphia[Affiliation] OR University of Pennsylvania School of \"\n",
    "                         \"Medicine[Affiliation] OR School of Medicine University of \"\n",
    "                         \"Pennsylvania[Affiliation]\",\n",
    "                    usehistory=\"y\")\n",
    "search_results = Entrez.read(handle)\n",
    "handle.close()\n",
    "# obtaining the list of relevant PMIDs\n",
    "id_list = search_results[\"IdList\"]\n",
    "# get all the record based on the PMIDs\n",
    "fetch_records_handle = Entrez.efetch(db=\"pubmed\", id=id_list, retmode=\"text\", rettype=\"medline\")"
   ]
  },
  {
   "cell_type": "code",
   "execution_count": 29,
   "metadata": {},
   "outputs": [],
   "source": [
    "result_path = Path(path, 'result.txt')\n",
    "out_handle = result_path.open('w+')\n",
    "out_handle.write(fetch_records_handle.read())\n",
    "out_handle.close()"
   ]
  }
 ],
 "metadata": {
  "kernelspec": {
   "display_name": "Python 3",
   "language": "python",
   "name": "python3"
  },
  "language_info": {
   "codemirror_mode": {
    "name": "ipython",
    "version": 3
   },
   "file_extension": ".py",
   "mimetype": "text/x-python",
   "name": "python",
   "nbconvert_exporter": "python",
   "pygments_lexer": "ipython3",
   "version": "3.5.4"
  }
 },
 "nbformat": 4,
 "nbformat_minor": 2
}
