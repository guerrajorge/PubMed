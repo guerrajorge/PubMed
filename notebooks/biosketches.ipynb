{
 "cells": [
  {
   "cell_type": "code",
   "execution_count": 1,
   "metadata": {},
   "outputs": [],
   "source": [
    "import pandas as pd\n",
    "import sys\n",
    "import PyPDF2\n",
    "import os\n",
    "from pathlib import Path"
   ]
  },
  {
   "cell_type": "code",
   "execution_count": 2,
   "metadata": {},
   "outputs": [],
   "source": [
    "if sys.platform == \"win32\":\n",
    "    dataset_dir = r'D:\\dataset\\scosy\\dataset\\biosketches'\n",
    "else:\n",
    "    dataset_dir = '/Volumes/dataset/scosy/dataset/biosketches'"
   ]
  },
  {
   "cell_type": "code",
   "execution_count": 3,
   "metadata": {},
   "outputs": [
    {
     "data": {
      "text/plain": [
       "['.DS_Store',\n",
       " 'andrea_knight.pdf',\n",
       " 'andrew_d_wells.pdf',\n",
       " 'ariel_williamson.pdf',\n",
       " 'athena_zuppa.pdf',\n",
       " 'benjamin_j_wilkins.pdf',\n",
       " 'carole_marcus.pdf',\n",
       " 'flaura_koplin_winston.pdf',\n",
       " 'hakon_hakonarson.pdf',\n",
       " 'ian_d_krantz.pdf',\n",
       " 'Jorge.zip',\n",
       " 'katherine_yun.pdf',\n",
       " 'kevin_downes.pdf',\n",
       " 'Krantz_Biosketch.pdf',\n",
       " 'kristy_b_arbogast.pdf',\n",
       " 'Marni_j_falk.pdf',\n",
       " 'matthew_r_maltese.pdf',\n",
       " 'nicholas_scott_abend.pdf',\n",
       " 'NIH R21_Biosketch_Winston_FINAL.docx',\n",
       " 'robert_a_berg.pdf',\n",
       " 'robert_schultz.pdf',\n",
       " 'ron_keren.pdf',\n",
       " 'sagori_mukhopadhyay.pdf',\n",
       " 'Ulloa_Biosketch.pdf',\n",
       " 'vinay_m_nadkami.pdf',\n",
       " 'yuhan_chen.pdf']"
      ]
     },
     "execution_count": 3,
     "metadata": {},
     "output_type": "execute_result"
    }
   ],
   "source": [
    "biosketches_files = os.listdir(dataset_dir)\n",
    "biosketches_files"
   ]
  },
  {
   "cell_type": "code",
   "execution_count": 14,
   "metadata": {},
   "outputs": [
    {
     "name": "stdout",
     "output_type": "stream",
     "text": [
      "processing file = /Volumes/dataset/scosy/dataset/biosketches/andrea_knight.pdf\n",
      "number pages = 5\n",
      "\tprocessing page = 0\n",
      "\tprocessing page = 1\n",
      "\tprocessing page = 2\n",
      "\tprocessing page = 3\n",
      "\tprocessing page = 4\n"
     ]
    }
   ],
   "source": [
    "# key = name, value = biosketch information\n",
    "researcher_bio = dict()\n",
    "\n",
    "for bio_file in biosketches_files:\n",
    "    if 'pdf' in bio_file.lower():\n",
    "        file_path = Path(dataset_dir, bio_file)\n",
    "        print('processing file = {0}'.format(file_path))\n",
    "        pdf_file_obj = file_path.open('rb')\n",
    "        pdf_reader = PyPDF2.PdfFileReader(pdf_file_obj)\n",
    "        num_pages = pdf_reader.numPages\n",
    "        print('number pages = {0}'.format(num_pages))\n",
    "        # store the biosketch information for a particular researcher\n",
    "        tmp_str = ''\n",
    "        for i in range(num_pages):\n",
    "            print('\\tprocessing page = {0}'.format(i))\n",
    "            page_obj = pdf_reader.getPage(i)\n",
    "            tmp_str += page_obj.extractText()\n",
    "        researcher_bio[bio_file] = tmp_str\n",
    "        break"
   ]
  },
  {
   "cell_type": "code",
   "execution_count": 15,
   "metadata": {},
   "outputs": [
    {
     "data": {
      "text/plain": [
       "{'andrea_knight.pdf': \"                \\n \\nBIOGRAPHICAL SKETCH\\n \\n \\n \\nNAME:  Knight, Andrea\\n \\n \\neRA COMMONS USER NAME (credential, e.g., agency login): knightan\\n \\n \\nPOSITION TITLE:  Assistant Professor (C\\n-\\nE) of Pediatrics\\n \\n \\nEDUCATION/TRAINING \\n \\n \\nINSTITUTION AND LOCATION\\n \\nDEGREE\\n \\nCompletion \\nD\\nate\\n \\nFIELD OF STUDY\\n \\nUniversity of Toronto\\n, Canada\\n \\nBSc\\n \\n05/\\n2000\\n \\n \\nHuman Biology\\n \\n \\nColumbia Co\\nllege of Physicians & Surgeons\\n \\n \\nMD\\n \\n05/\\n2004\\n \\nMedicine\\n \\nUniversity of Pennsylvania\\n \\nMSCE\\n \\n05/\\n2014\\n \\nClinical Epidemiology\\n \\n \\n \\n \\nA. Personal Statement\\n \\n \\nMy research focuses\\n \\non \\nn\\neuropsychiatric disorders \\nin \\npediatric systemic lupus erythematosus (SLE\\n). \\nThrough \\nmy completion of a clinical pediatric rheumatology fellowship, a research fellowship in pediatric hospital \\nepidemiology and outcomes and a Master of Science\\n \\nin Clinical Epid\\nemiology\\n, I have obtained \\nclinical \\nexpertise pediatric SLE as well as \\nadvanced \\nskills in \\nclinical epidemiology an\\nd biostatistics. \\nUsing electronic \\nsurveys\\n, \\nprimary and \\nsecondary \\nclaims \\ndata a\\nnalysis\\n,\\n \\nand\\n \\nmixed methods approaches, \\nI have led studies \\nto \\ninve\\nstigate\\n \\nthe burden of \\nhospital care\\n \\nand psychiatric morbidity\\n \\nin pediatric SLE\\n, \\nassociated \\nrisk factors\\n \\nand \\ndisparities, \\nand \\nbarriers and\\n \\nfacilitators \\nto mental health intervention in pedia\\ntric rheumatology\\n. \\nI am currently \\nleading \\na research workgroup\\n \\nfor \\nthe SLE Mental Health S\\nection of the Childhood Arthritis & Rheumatol\\nogy \\nResearch Alliance (CARRA), to investigate\\n \\nstrategies \\nfor \\nimproving \\ncare of youth with SLE and\\n \\nmental illness. \\n \\nWhile this prior work \\nhas established\\n \\na\\n \\nhigh burden of \\npsychiatric morbid\\nity\\n \\nin pediatric SLE and an\\n \\nunmet \\nneed\\n \\nfor \\nimproved mental healthcare\\n,\\n \\nm\\ny future research\\n \\nwill\\n \\nuse clinical and translational\\n \\nmethod\\ns\\n \\nto \\nunderstand the neurobiological\\n \\nmechanisms\\n \\nunderlying neuropsychiatric SLE\\n, \\nwith the goal of improving\\n \\nmanagement \\nstrate\\ngies \\nfor pediatric SLE patients with neuropsychological dysfunction\\n.\\n \\nThis proposal involving \\nadvanced neuroimaging \\nand serum biomarker analysis \\nseeks to \\nintegrate multi\\n-\\nlevel biomarkers to \\ncharacterize psychiatric disorders in pediatric SLE. \\nUnder the ment\\norship of Dr. \\nSusan \\nFurth an\\nd in \\ncollaboration with a multidisciplinary team of \\nexperts at CHOP and PENN, this research will \\nprovide \\na \\nframework for \\ndevelopment of \\ninte\\nrventions to improve outcomes for\\n \\nchildren and adolescents with SLE \\naffected by neuropsy\\nchiatric disorders\\n. \\n \\n \\n \\n1.\\n \\nAndrea Knight, Pamela Weiss, Knashawn Morales, Marsha Gerdes, Melissa Rearson, Michelle \\nVickery, Ron Keren (2015)\\n.\\n \\nIdentifying Differences in Risk Factors for Depression and Anxiety in \\nPediatric Chronic Disease: A Matched Cross\\n-\\nSecti\\nonal Study of Youth with Lupus/Mixed Connective \\nTissue Disease and Their Peers with Diabetes. \\nThe Journal of Pediatrics\\n, 167(6).\\n \\nPMID: 26316371\\n \\n \\n2.\\n \\nAndrea Knight, Michelle Vickery, Eyal Muscal, Alaina Davis, Julia G. Harris, Arzu Soybilgic, Karen \\nOnel, Laura \\nE. Schanberg, Tamar Rubinstein, Beth S. Gottlieb, David S. Mandell, Emily von Scheven \\nand for the CARRA Investigators\\n \\n(2016).\\n \\nIdentifying Targets for Improving Mental Health Care of \\nAdolescents with Lupus: Perspectives from Pediatric Rheumatology Clinician\\ns in the United States and \\nCanada. \\nJournal of Rheumatology\\n, 43(6). \\nPMID: 27036378\\n \\n \\n3.\\n \\nAndrea Knight,\\n \\nMing Xie, David Mandell (2016).\\n \\nDisparities in Psychiatric Diagnosis and Treatment for \\nYouth with Systemic Lupus Erythematosus: Analysis of a National US Medi\\ncaid Sample. \\nJournal of \\nRheumatology\\n, 43(7), \\nMay 1. pii: jrheum.150967. [Epub ahead of print]. PMID: 27134262\\n \\n \\nB. Positions and Honors\\n \\n \\n \\n \\nPositions and Employment\\n \\n2004\\n-\\n2007\\n \\nResident\\n, Department of Pediatrics, The Chi\\nldren's Hospital of Philadelphia\\n, Philad\\nelphia, PA\\n \\n2004\\n-\\n2007\\n \\nInstructor, University of Pennsylvania \\nPerelman \\nSchool of Medicine, Philadelphia, PA\\n \\n2007\\n-\\n2010\\n \\nNeonatology House Physician, Department of Pediatrics, Children's Hospital of Philadelphia, \\nPhiladelphia, PA\\n \\n2007\\n-\\n2010\\n \\nClinical Associate\\n \\nin Pediatrics, University of Pennsylvania \\nPerelman \\nSchool of Medicine, \\nPhiladelphia, PA\\n \\n2010\\n-\\n2013\\n \\nFellow\\n, Division of Rheumatology, Children's Hospital of Philadelphia, Philadelphia, PA\\n \\n2013\\n-\\n \\n\\npital of Philadelphia, \\nPhiladelphia, \\nPA\\n \\n2013\\n-\\n \\nAssistant Professor\\n-\\nCE, Department of \\nPediatrics\\n, \\nUniversity of Pennsylvania \\nPerelman \\nSchool of Medicine\\n, Philadelphia, PA\\n \\n2013\\n-\\n \\n\\niladelphia, \\nPhiladelphia, PA \\n \\n2014\\n-\\n \\n\\n \\n \\n \\nOther Experience and Professional Memberships\\n \\n2000\\n-\\n \\nMember, \\nAmerican Medical Association\\n \\n2004\\n-\\n \\nMember, \\nAmerican Academy of Pediatrics, Sectio\\nn on Rheumatology \\n(\\n2012\\n-\\npresent)\\n \\n2010\\n-\\n \\nMember, \\nAmerican College of Rheumatology\\n \\n2011\\n-\\n \\nMember, \\nCARRA\\n, Subcommittee for Lupus Health\\n-\\nrelated\\n \\nQuality of Life (2012 \\n-\\n \\n2014\\n)\\n \\n2014\\n-\\n \\nMember, PR\\n-\\nCOIN, SLE Steering Committee\\n \\n2015\\n-\\n \\nWorkgroup Leader, CARRA SLE Men\\ntal Health Section\\n \\n2015\\n \\nAbstract Reviewer, Health Services Research Category for American College of \\nRheumatology National Meeting\\n \\n2015\\n-\\n \\nManuscript\\n \\nReviewer, \\nArthritis Research & Therapy, JAMA Pediatrics\\n, Arthritis Care & \\nResearch\\n, Lupus\\n, Pediatric Rheum\\natology Online Journal\\n \\n \\n \\nHonors\\n \\n2004\\n \\nHumanism in Medicine Award, Arnold P Gold Foundation\\n \\n2004\\n \\nElection to Alpha Omega Alpha Honor Medical Society\\n \\n2007\\n \\nAdvocacy Award, Community Pediatrics & Advocacy Program, Children's Hospital of \\nPhiladelphia\\n \\n2011\\n \\nAm\\nerican College of Rheumatology/REF Amgen Fellowship Training Award\\n \\n2012\\n \\nNIH Extramural Pediatric Research Loan Repayment Program\\n \\n2012\\n \\nAnna Louise Harmon Preceptorship, Lupus Foundation of America\\n \\n2013\\n \\nFaculty \\nScholar\\n \\nAward, Center of Excellence for Dive\\nrsity in Health Education and Research, \\nUniversity of Pennsylvania\\n \\n2014\\n \\nPilot Grant Award, Center for Pediatric Clinical Effectiveness, Children's Hospital of \\nPhiladelphia\\n \\n2015\\n \\nNIH Extramural Pediatric Research Loan Repayment Program\\n \\n2016\\n \\nJunior Investi\\n\\nHospital of Philadelphia\\n \\n \\n \\nC. \\nContribution to Science\\n \\n \\n1. \\nMy \\nwork\\n \\nhas utilized national datasets to document\\n \\nthe \\nburden of inpatient care\\n \\nand psychiatric morbidity \\nfor \\nyouth w\\nith \\nSLE\\n. \\nChildren and adolescents with SLE are at risk for significa\\nnt morbidity and mortality,\\n \\nand\\n \\ndisruption\\n \\nof psychosocial functioning due to\\n \\nSLE and its treatment. These studies \\nprovided previously \\nunreported inpatient hospitali\\nzation and mortality ra\\ntes, \\nand high prevalence of psychiatric diagnoses and \\npsychotropic medication use. We also found significant racial/ethnic disparities in healthcare utilization, \\ninpatient \\nmortality\\n,\\n \\npsychiatric diagnoses and treatment, pointing towards a need for a system\\natic approach to \\nmanagement of pediatric SLE to optimize equitable care.\\n \\nI serve\\nd as the primary investigator for\\n \\nthe\\ns\\ne studies\\n.\\n \\n \\na.\\n \\nAndrea Knight, Pamela Weiss, Knashawn Morales and Ron Keren (2014). National Trends in Pediatric \\nLupus Hospitalizations in the\\n \\nUnited States: 2000\\n-\\n2009. \\nJournal of Rheumatology\\n, 41(3), 539\\n-\\n46.\\n \\nPMCID:\\n \\nPMC4789141\\n \\n \\nb.\\n \\nAndrea Knight, Ming Xie\\n, David Mandell (2016).\\n \\nDisparities in Psychiatric Diagnosis and Treatment for \\nYouth with Systemic Lupus Erythematosus: Analysis of a National US M\\nedicaid Sample\\n. Journal of \\nRheumatology\\n, \\nMay 1. pii: jrheum.150967. [Epub ahead of print]. PMID: 27134262\\n \\n \\n \\n2. \\nMy \\nwork\\n \\nha\\ns \\nalso \\nfocused on\\n \\nidentifying\\n \\nrisk \\nfactors contributing to\\n \\npsychiatric morbidity\\n \\nin\\n \\npediatric SLE\\n. \\nPsychiatric disorders in pediatric S\\nLE may be due to SLE and its treatment, other psychosocial stressors, or \\nhereditary factors. Understanding risk factors for psychiatric disorders is important because they\\n \\nare \\nassociated \\nwith poor clinical and psychosocial outcomes in SLE\\n, and early interv\\nention \\nin affected youth is \\nlikely to improve\\n \\noutcomes\\n. \\nWe\\n \\nestablish\\ned\\n \\nhigh \\nlevels of depression, \\nanxiety\\n \\nand suicidal symptoms\\n \\nin \\na \\nsample \\nof \\nyouth \\nwith SLE\\n \\ncompared \\nto healthy peers, \\nparticularly\\n \\nin those of non\\n-\\nwhite race. \\nComparing\\n \\nthe\\n \\npediatric SLE sa\\nmple\\n \\nto \\na matched cohort of youth with\\n \\ntype 1 diabetes mellitus, \\nwe showed similar\\n \\nhigh \\nprevalence of\\n \\npsychiatric symptoms\\n, and common disease\\n-\\nrelated risk factors for depression,\\n \\nincluding\\n \\nlonger disease duration and \\npoor\\n \\ndisease control\\n. \\nThese results of\\n \\nthese studies indicate a need for further \\ninv\\nestigation of the mechanisms underlying these\\n \\ndisease\\n-\\nrelated \\nrisk factors for psychiatric dysfunction, as \\nwell as the reasons for the observed racial disparities. \\nI served as the primary investigator for these\\n \\nstudies. \\n \\n \\na.\\n \\nAndrea Knight, Pamela Weiss, Knashawn Morales, Marsha Gerdes, Allyson Gutstein, Michelle Vickery \\nand Ron Keren (2014). Depression and Anxiety and their Association with Healthcare Utilization in \\nPediatric Lupus and Mixed Connective Tissue Disea\\nse Patients: A Cross\\n-\\nSectional Study. \\nPediatric \\nRheumatology\\n, 12(42).\\n \\nPMCID:\\n \\nPMC4169806\\n \\n \\nb.\\n \\nAndrea Knight, Pamela Weiss, Knashawn Morales, Marsha Gerdes, Melissa Rearson, Michelle \\nVickery, Ron Keren (2015)\\n.\\n \\nIdentifying Differences in Risk Factors for Depressi\\non and Anxiety in \\nPediatric Chronic Disease: A Matched Cross\\n-\\nSectional Study of Youth with Lupus/Mixed Connective \\nTissue Disease and Their Peers with Diabetes. \\nThe Journal of Pediatrics\\n, 167(6).\\n \\nPMID: 26316371\\n \\n \\n3. Findings from the above work indicated hig\\nh psychiatric morbidity, but low \\nmental health treatment rates \\nfor youth with SLE. Further, \\nyouth with depression had less frequent primary care visits than those without, \\nimplicating a role for pediatric rheumatologists\\n \\nin \\nmental health intervention. Thro\\nugh a national survey of \\npediatric rheumatologists, and mixed methods study of patients and parents, we established: i) an unmet need \\nfor improved mental healthcare, ii) acceptability of mental health screening, iii) perceived barriers and \\nfacilitators to \\nmental health intervention in pediatric rheumatology, and iv) a model for understanding the \\npsychosocial burden of SLE. I served as the primary investigator for these studies. \\n \\n \\na.\\n \\nAndrea Knight, Michelle Vickery, Alexander Fiks, Frances Barg (2015): \\nBarriers and facilitators for \\nmental healthcare in pediatric lupus and mixed connective tissue disease: a qualitative study of youth \\nand parent perspectives\\n. \\nPediatric Rheumatology\\n, \\n13\\n(52).\\n \\nPMCID:\\n \\nPMC4657343\\n \\n \\nb.\\n \\nAndrea Knight, Michelle Vickery, Eyal Muscal, Alaina Davis, Julia G. Harris, Arzu Soybilgic, Karen \\nOnel, Laura E. Schanberg, Tamar Rubinstein, Beth S. Gottlieb, David S. Mandell, Emily von Scheven \\nand for the CARRA Investigators\\n \\n(2016).\\n \\nIdentifying Target\\ns for Improving Mental Health Care of \\nAdolescents with Lupus: Perspectives from Pediatric Rheumatology Clinicians in the United States and \\nCanada. \\nJournal of Rheumatology\\n, 43(6). \\nPMID: 27036378\\n \\n \\nc.\\n \\nAndrea Knight, Michelle Vickery, Alex Fiks, Frances Barg (201\\n6): \\nThe Illness Experience of Youth with \\nLupus/Mixed Connective Tissue Disease: A Mixed Methods Analysis of Patient & Parent Perspectives\\n. \\nL\\nupus, \\nApr 28. pii: 0961203316646460 [Epub ahead of print]\\n.\\n \\nPMID: 27125290\\n \\n \\nComplete List of Published Work in MyBibl\\niography: \\n \\nhttp://www.ncbi.nlm.nih.gov/sites/myncbi/andrea.knight.1/bibliography/49431736/public/?sort=date&direction=\\nascending\\n \\n \\n \\n \\n \\n \\nD. Research Support \\n \\n \\n \\nOngoing Research Support\\n \\n \\n \\nPediatric Development Fund, CHOP\\n \\nKnight (PI)\\n \\n07/01/13\\n-\\n06/30/17\\n \\n \\nMental\\n \\nHealth in Pediatric SLE\\n \\n \\n \\nThe goal of this research program is to determine the impact of mental health disorders on clinical and \\npsychosocial outcomes, as well as effective strategies to improve mental health care for patients with pediatric \\nSLE.\\n \\nRole: \\nPI\\n \\n \\n \\n \\nSmall Proposal Grant, CARRA\\n \\nKnight (PI)\\n \\n04/01/16\\n-\\n03/31/17\\n \\n \\nPerspectives on Mental He\\nalth Intervention For Youth in Rheumatology\\n\\n \\nA Mixed Methods Study \\n \\nThe goal of this patient\\n-\\nengaged study is to provide patient, parent and behavioral health pro\\nvider \\nperspectives on mental healthcare for youth with rheumatologic conditions, to guide development and testing \\nof mental health intervention strategies in pediatric rheumatology.\\n \\n \\nRole: PI\\n \\n \\nSmall Proposal Grant, CARRA\\n \\n \\nRubenstein (PI)\\n \\n \\n04/01/16\\n-\\n03/31/1\\n7\\n \\nScreening for mood disorder in youth with lupus\\n \\nThe goal of this \\nmulti\\n-\\ncentered \\nstudy is to test the feasibility of systematic mood disorder screening of youth \\nwith lupu\\ns, and \\nto describe the prevalence and associated risk factors of depression and anxi\\nety in lupus \\nyouth\\n \\nacross different demographic groups.\\n \\nRole: Co\\n-\\nI\\nnvestigator\\n \\nPending Research Support\\n \\n \\n \\nJunior Investigator Pilot Grant Program, CHOP\\n \\nKnight (PI)\\n \\n07/01/16\\n-\\n10/31/17\\n \\n \\nBrain Function in Pediatric Neuropsychiatric Lupus\\n \\n \\n \\nThe goal of this p\\nilot study is to use multi\\n-\\nmodal neuroimaging to identify correlates of brain dysfunction to \\ninflammatory features, cognitive function and psychiatric phenotypes in pediatric\\n-\\nonset SLE.  \\n \\nRole: PI\\n \\n \\n \\n \\nAmos Medical Faculty Development Award, RWJF\\n \\nKnight (P\\nI)\\n \\n07/01/17\\n-\\n06/30/21\\n \\n \\nNeurocognitive Function & Psychiatric Illness in Pediatric Lupus\\n \\nThe goal of this \\nprospective cohort study is to examine relationships between domains of cognitive and \\naffective function, and longitudinal cognitive growth patterns i\\nn pediatric lupus. \\n \\nRole: PI\\n \\n \\nCompleted Research Support\\n \\n \\n \\n \\n \\n \\nCPCE Pilot Grant Award, CHOP\\n \\nKnight (PI)\\n \\n06/06/14\\n-\\n12/06/15\\n \\n06/06/14\\n-\\n12/06/15\\n \\nPerceptions, Preferences and Barriers to Mental Health Care in Pediatric SLE/MTCD\\n \\nThe \\ngoal of this qualitative stu\\ndy wa\\ns to determine key patient, caregiver and provider\\n-\\nlevel factors that affect \\nmental health care for pediatric SLE/MCTD patients.\\n \\nRole: PI\\n \\n \\nFaculty Scholar Award, University of Pennsylvania\\n \\nKnight (PI)\\n \\n07/01/13\\n-\\n06/30/15\\n \\nPsychosocial Outcomes in Pedia\\ntric Lupus\\n \\n \\n \\nThe goal of this study was to investigate prevalence, \\ntreatment rates \\nand risk factors for\\n \\ndepression and \\nanxiety in pediatric SLE/MCTD patients.\\n \\nRole: PI\\n \\n \\n \\n \\n \\n \\n \\nPreceptorship Award, Lupus Foundation of America \\n \\nKeren (PI)\\n \\n09/30/12\\n-\\n04/30/14\\n \\nDepression, Anxiety and Healthcare Utilization in Pediatric SLE/MCTD\\n \\nThe goal of this study was\\n \\nto investigate the association of depression and anxiety with health services \\nutilization and quality of life in pediatric SLE/MCTD.\\n \\nRole: Co\\n-\\ninvestigator\\n \\nRole\\n: Co\\n-\\nInvestigato\\n \\n5T32HD060550\\n-\\n03T32 \\n \\nKeren (PI)\\n \\n07/01/11\\n-\\n06/30/13\\n \\nPediatric Hospital Epidemiology and Outcomes Research Fellowship\\n \\nThe goal of this study was\\n \\nto \\ninvestigate the association of depression and anxiety with health services \\nutilization and qu\\nality of life in pediatric SLE/MCTD\\n, as well as healthcare utilization patterns in pediatric\\n \\nSLE/MCTD\\n.\\n \\nRole: Co\\n-\\ninvestigator\\n \\nRole: Trainee Investigator\\n \\n \\n \\n \\n \\n\"}"
      ]
     },
     "execution_count": 15,
     "metadata": {},
     "output_type": "execute_result"
    }
   ],
   "source": [
    "researcher_bio"
   ]
  },
  {
   "cell_type": "code",
   "execution_count": null,
   "metadata": {},
   "outputs": [],
   "source": []
  }
 ],
 "metadata": {
  "kernelspec": {
   "display_name": "Python 3",
   "language": "python",
   "name": "python3"
  },
  "language_info": {
   "codemirror_mode": {
    "name": "ipython",
    "version": 3
   },
   "file_extension": ".py",
   "mimetype": "text/x-python",
   "name": "python",
   "nbconvert_exporter": "python",
   "pygments_lexer": "ipython3",
   "version": "3.5.4"
  }
 },
 "nbformat": 4,
 "nbformat_minor": 2
}
